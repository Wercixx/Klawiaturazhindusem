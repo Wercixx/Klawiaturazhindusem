{
 "cells": [
  {
   "cell_type": "code",
   "execution_count": 1,
   "id": "1c629d83",
   "metadata": {},
   "outputs": [],
   "source": [
    "import pandas as pd\n",
    "import numpy as np\n",
    "import csv\n",
    "from scipy.spatial.distance import cityblock\n",
    "from sklearn.metrics import roc_curve"
   ]
  },
  {
   "cell_type": "code",
   "execution_count": 2,
   "id": "36a0dc76",
   "metadata": {},
   "outputs": [],
   "source": [
    "data = pd.read_csv(\"Keyboardinput.csv\")\n",
    "userList = data.user.unique()\n",
    "keyList = data.key.unique()\n",
    "df = pd.DataFrame(columns=['subject','key','H','UD','DD'])\n",
    "for i in range(0, len(userList)):\n",
    "    for j in range(0,len(keyList)):\n",
    "        queryData = data.query(\"user=='\" +userList[i]+ \"' and key==\" + str(keyList[j]) + \" and key >=33 and key<=122\")\n",
    "        queryLen = len(queryData)\n",
    "        finalData = {}\n",
    "        if queryLen > 0:\n",
    "            if(queryLen > 2):\n",
    "                for k in range(0,queryLen,2):\n",
    "                    finalData['subject'] = userList[i]\n",
    "                    finalData['key'] = chr(keyList[j])\n",
    "                    finalData['H'] = (int(queryData.iloc[k+1].Time) - int(queryData.iloc[k].Time))/1000\n",
    "                    keyUpIndex = queryData.iloc[k+1].name\n",
    "                    if(data.iloc[keyUpIndex + 1].user == userList[i]):\n",
    "                        finalData['UD'] = (int(data.iloc[keyUpIndex+1].Time) - int(queryData.iloc[k+1].Time))/1000\n",
    "                        finalData['DD'] = (int(data.iloc[keyUpIndex+1].Time) - int(queryData.iloc[k].Time))/1000\n",
    "                    else:\n",
    "                        finalData['UD'] =  finalData['H']\n",
    "                        finalData['DD'] = finalData['H']\n",
    "                    df = df.append(finalData,ignore_index=True )\n",
    "            else:\n",
    "                finalData['subject'] = userList[i]\n",
    "                finalData['key'] = chr(keyList[j])\n",
    "                finalData['H']= (int(queryData.query(\"keyEvent=='Up'\").Time) - int( queryData.query(\"keyEvent=='Down'\").Time))/1000\n",
    "                keyUpIndex = queryData.query(\"keyEvent=='Up'\").index[0]\n",
    "                if(data.iloc[keyUpIndex + 1].user == userList[i]):\n",
    "                        finalData['UD'] = (int(data.iloc[keyUpIndex+1].Time) - int( queryData.query(\"keyEvent=='Up'\").Time))/1000\n",
    "                        finalData['DD'] = (int(data.iloc[keyUpIndex+1].Time) - int( queryData.query(\"keyEvent=='Down'\").Time))/1000\n",
    "                else:\n",
    "                    finalData['UD'] =  finalData['H']\n",
    "                    finalData['DD'] =  finalData['H']\n",
    "                df = df.append(finalData,ignore_index=True )\n",
    "            \n",
    "           \n",
    "                \n",
    "f = open(\"KeyStrokeDistance.csv\", 'w',newline='\\n')\n",
    "writer = csv.writer(f)\n",
    "writer.writerow(['subject','key','H','UD','DD'])\n",
    "for row in df.iterrows():\n",
    "    #print(row[1])\n",
    "    writer.writerow(row[1])\n",
    "    \n",
    "f.close()"
   ]
  },
  {
   "cell_type": "code",
   "execution_count": null,
   "id": "082885fb",
   "metadata": {},
   "outputs": [],
   "source": []
  }
 ],
 "metadata": {
  "kernelspec": {
   "display_name": "Python 3",
   "language": "python",
   "name": "python3"
  },
  "language_info": {
   "codemirror_mode": {
    "name": "ipython",
    "version": 3
   },
   "file_extension": ".py",
   "mimetype": "text/x-python",
   "name": "python",
   "nbconvert_exporter": "python",
   "pygments_lexer": "ipython3",
   "version": "3.8.8"
  }
 },
 "nbformat": 4,
 "nbformat_minor": 5
}
