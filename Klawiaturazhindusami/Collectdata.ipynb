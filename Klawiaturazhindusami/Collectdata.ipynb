{
 "cells": [
  {
   "cell_type": "code",
   "execution_count": 26,
   "id": "124d4741",
   "metadata": {},
   "outputs": [],
   "source": [
    "import pyWinhook as pyHook\n",
    "import pythoncom\n",
    "import os\n",
    "import matplotlib.pyplot as plt\n",
    "import numpy as np\n",
    "import sys\n",
    "import pandas as pd\n",
    "from IPython.display import clear_output\n",
    "import csv"
   ]
  },
  {
   "cell_type": "code",
   "execution_count": 27,
   "id": "bc7c441c",
   "metadata": {},
   "outputs": [],
   "source": [
    "global userName\n",
    "userFilePath = \"Keyboardinput.csv\""
   ]
  },
  {
   "cell_type": "code",
   "execution_count": 28,
   "id": "5b6f34cd",
   "metadata": {},
   "outputs": [
    {
     "name": "stdout",
     "output_type": "stream",
     "text": [
      "Login: WeronikaRed\n",
      "Zdanie do przepisania: To ja, zweryfikuj.\n",
      "Wpisz zdanie: \n",
      "T\u0000o ja, zweryfikuj.\n",
      "ouput\n",
      "[('WeronikaRed', 13, 'Up', 6906734), ('WeronikaRed', 0, 'Down', 6907796), ('WeronikaRed', 84, 'Down', 6908109), ('WeronikaRed', 84, 'Up', 6908250), ('WeronikaRed', 0, 'Up', 6908312), ('WeronikaRed', 111, 'Down', 6908937), ('WeronikaRed', 111, 'Up', 6909046), ('WeronikaRed', 32, 'Down', 6910156), ('WeronikaRed', 32, 'Up', 6910265), ('WeronikaRed', 106, 'Down', 6910359), ('WeronikaRed', 106, 'Up', 6910468), ('WeronikaRed', 97, 'Down', 6910515), ('WeronikaRed', 97, 'Up', 6910640), ('WeronikaRed', 44, 'Down', 6911093), ('WeronikaRed', 44, 'Up', 6911265), ('WeronikaRed', 32, 'Down', 6911937), ('WeronikaRed', 32, 'Up', 6912093), ('WeronikaRed', 122, 'Down', 6912125), ('WeronikaRed', 122, 'Up', 6912234), ('WeronikaRed', 119, 'Down', 6912453), ('WeronikaRed', 119, 'Up', 6912578), ('WeronikaRed', 101, 'Down', 6912703), ('WeronikaRed', 101, 'Up', 6912843), ('WeronikaRed', 114, 'Down', 6913781), ('WeronikaRed', 114, 'Up', 6913906), ('WeronikaRed', 121, 'Down', 6913984), ('WeronikaRed', 121, 'Up', 6914109), ('WeronikaRed', 102, 'Down', 6914171), ('WeronikaRed', 102, 'Up', 6914281), ('WeronikaRed', 105, 'Down', 6914390), ('WeronikaRed', 105, 'Up', 6914468), ('WeronikaRed', 107, 'Down', 6915187), ('WeronikaRed', 107, 'Up', 6915359), ('WeronikaRed', 117, 'Down', 6916968), ('WeronikaRed', 117, 'Up', 6917062), ('WeronikaRed', 106, 'Down', 6917171), ('WeronikaRed', 106, 'Up', 6917250), ('WeronikaRed', 46, 'Down', 6918156), ('WeronikaRed', 46, 'Up', 6918250), ('WeronikaRed', 27, 'Down', 6921312)]\n"
     ]
    }
   ],
   "source": [
    "class KeyLogger:\n",
    "    def __init__(self):\n",
    "        self.enterPressed = False\n",
    "        self.eventList = []\n",
    "        self.isCaps = False\n",
    "        #self.message = \"\"\n",
    "        \n",
    "    def keyDownEvent(self, event):\n",
    "        if event.KeyID == 20 and self.isCaps == False: \n",
    "            self.isCaps = True\n",
    "        elif event.KeyID == 20 and self.isCaps == True: \n",
    "            self.isCaps = False     \n",
    "        if event.KeyID>= 48 and event.KeyID<=57:  #Obsługa cyfr \n",
    "            event.Ascii = event.KeyID \n",
    "        if self.isCaps == True and event.Ascii>=97 and event.Ascii<=122: #isCaps+ mała litera=duża litera\n",
    "            event.Ascii = event.KeyID\n",
    "        self.storeEvent(\"Down\", event) \n",
    "        return True\n",
    "        \n",
    "\n",
    "    def keyUpEvent(self, event): \n",
    "        if event.KeyID>= 48 and event.KeyID<=57:\n",
    "            event.Ascii = event.KeyID\n",
    "        if self.isCaps == True and event.Ascii>=97 and event.Ascii<=122:\n",
    "            event.Ascii = event.KeyID\n",
    "        print(chr(event.Ascii),end='')\n",
    "        self.storeEvent(\"Up\", event)\n",
    "        return True\n",
    "\n",
    "    def mainLoop(self):\n",
    "        while not self.enterPressed:\n",
    "            pythoncom.PumpWaitingMessages()\n",
    "\n",
    "    def storeEvent(self, activity, event):\n",
    "        keystrokeTime = int(event.Time) #pobranie czasu zdarzenia\n",
    "        self.eventList.append ((userName,event.Ascii,activity, int(keystrokeTime)))\n",
    "\n",
    "        # Użyj ESC do zatwierdzenia wpisywanego zdania \n",
    "        # Enter Key - KeyCode: 13 Ascii: 13 ScanCode: 28 - ESC = 27 @ Ascii\n",
    "        if event.Ascii == 27:\n",
    "            self.enterPressed = True\n",
    "            userRecordData(self.eventList)\n",
    "\n",
    "def userRecordData(eventList):\n",
    "    print(\"\\nouput\")\n",
    "    print(eventList)\n",
    "    with open(userFilePath,'a',newline='\\n') as f:\n",
    "        writer = csv.writer(f)\n",
    "        writer.writerows(eventList)\n",
    "    f.close()   \n",
    "    \n",
    "def getUserName():\n",
    "    global userName\n",
    "    userName = input(\"Login: \")\n",
    "\n",
    "def getKeyStroke():\n",
    "    \n",
    "    keyLogger = KeyLogger()\n",
    "    hookManager = pyHook.HookManager() #Stworzenie hookManager- rejestruje i zarządza zdarzeniami \n",
    "    hookManager.KeyDown = keyLogger.keyDownEvent #Wykrycie zdarzenia keyDown-uruchomienie przypisanego KeyEvent Keyloggera\n",
    "    hookManager.KeyUp = keyLogger.keyUpEvent #Wykrycie zdarzenia keyUp-uruchomienie przypisanego KeyEvent Keyloggera\n",
    "    hookManager.HookKeyboard() #Oczekuj na zdarzenia z użyciem klawiatury\n",
    "\n",
    "    keyLogger.mainLoop()\n",
    "    # Unhooks the keyboard, no more data recorded, returns to menu\n",
    "    hookManager.UnhookKeyboard()\n",
    "    \n",
    "getUserName()\n",
    "\n",
    "print(\"Zdanie do przepisania: To ja, zweryfikuj.\")\n",
    "print(\"Wpisz zdanie: \")\n",
    "getKeyStroke()"
   ]
  },
  {
   "cell_type": "code",
   "execution_count": null,
   "id": "458acad7",
   "metadata": {},
   "outputs": [],
   "source": []
  },
  {
   "cell_type": "code",
   "execution_count": null,
   "id": "fc59d782",
   "metadata": {},
   "outputs": [],
   "source": []
  },
  {
   "cell_type": "code",
   "execution_count": null,
   "id": "a10e8767",
   "metadata": {
    "collapsed": true
   },
   "outputs": [],
   "source": []
  }
 ],
 "metadata": {
  "kernelspec": {
   "display_name": "Python 3",
   "language": "python",
   "name": "python3"
  },
  "language_info": {
   "codemirror_mode": {
    "name": "ipython",
    "version": 3
   },
   "file_extension": ".py",
   "mimetype": "text/x-python",
   "name": "python",
   "nbconvert_exporter": "python",
   "pygments_lexer": "ipython3",
   "version": "3.8.8"
  }
 },
 "nbformat": 4,
 "nbformat_minor": 5
}
